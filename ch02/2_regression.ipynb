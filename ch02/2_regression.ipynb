{
 "cells": [
  {
   "cell_type": "markdown",
   "metadata": {
    "deletable": true,
    "editable": true
   },
   "source": [
    "### Linear regression with Tensorflow"
   ]
  },
  {
   "cell_type": "markdown",
   "metadata": {
    "deletable": true,
    "editable": true
   },
   "source": [
    "#### Preparation of train set"
   ]
  },
  {
   "cell_type": "code",
   "execution_count": 1,
   "metadata": {
    "collapsed": false,
    "deletable": true,
    "editable": true
   },
   "outputs": [
    {
     "data": {
      "image/png": "[encoded data removed]",
      "text/plain": [
       "<matplotlib.figure.Figure at 0x7f1a90655278>"
      ]
     },
     "metadata": {},
     "output_type": "display_data"
    }
   ],
   "source": [
    "import numpy as np\n",
    "\n",
    "num_points = 100\n",
    "\n",
    "# x1은 평균값을 0으로 갖고 표준편차가 0.55인 정규분포를 num_point 만큼 생성합니다. \n",
    "x_data = np.random.normal(0.0, 0.55, num_points)        \n",
    "\n",
    "# y1은 x1의 데이터를 이용해 기울기는 0.1, y 절편은 0.3인 방정식을 이용해 만듭니다.\n",
    "# 이때 y 절편에 평균값 0, 표준편차 0.03인 정규분포를 더하여 포인트를 방정식이 만드는 직선의 y축 방향으로 흩어지게 만듭니다.\n",
    "y_data =x_data * 0.1 + 0.3 + np.random.normal(0.0, 0.03, num_points)\n",
    "\n",
    "import matplotlib.pyplot as plt\n",
    "\n",
    "plt.plot(x_data, y_data, 'ro')\n",
    "plt.show()"
   ]
  },
  {
   "cell_type": "markdown",
   "metadata": {
    "deletable": true,
    "editable": true
   },
   "source": [
    "#### Learning of train set"
   ]
  },
  {
   "cell_type": "code",
   "execution_count": 9,
   "metadata": {
    "collapsed": false,
    "deletable": true,
    "editable": true
   },
   "outputs": [
    {
     "name": "stdout",
     "output_type": "stream",
     "text": [
      "0 0.0158887 [-0.11008587] [ 0.30941677]\n",
      "1 0.00698485 [-0.03654895] [ 0.30465159]\n",
      "2 0.00334155 [ 0.01051463] [ 0.3020117]\n",
      "3 0.00185071 [ 0.04062058] [ 0.30032218]\n",
      "4 0.00124066 [ 0.05987898] [ 0.29924139]\n",
      "5 0.000991024 [ 0.07219834] [ 0.29855004]\n",
      "6 0.000888873 [ 0.08007888] [ 0.2981078]\n",
      "7 0.000847074 [ 0.08511997] [ 0.29782489]\n"
     ]
    },
    {
     "data": {
      "image/png": "[encoded data removed]",
      "text/plain": [
       "<matplotlib.figure.Figure at 0x7f1a60491e48>"
      ]
     },
     "metadata": {},
     "output_type": "display_data"
    }
   ],
   "source": [
    "%matplotlib inline\n",
    "\n",
    "import tensorflow as tf\n",
    "import matplotlib.pyplot as plt\n",
    "\n",
    "\n",
    "# -1~1 사이의 랜덤한 균등분포 값으로 1차원 엘리먼트가 한개인 가중치 텐서를 만듭니다. \n",
    "# 바이어스 텐서는 0으로 초기화된 엘리먼트를 갖는 1차원 텐서입니다.\n",
    "W = tf.Variable(tf.random_uniform([1], -1.0, 1.0))\n",
    "b = tf.Variable(tf.zeros([1]))\n",
    "\n",
    "\n",
    "X = tf.placeholder(tf.float32)\n",
    "Y = tf.placeholder(tf.float32)\n",
    "\n",
    "# hypothesis\n",
    "y = W * X + b\n",
    "\n",
    "# cost 함수: 평균 제곱근 오차(mean squared error)\n",
    "cost = tf.reduce_mean(tf.square(y - Y))\n",
    "# 최적화 방법은 학습속도 0.5인 그래디언트 디센트를 사용\n",
    "optimizer = tf.train.GradientDescentOptimizer(0.5)\n",
    "train = optimizer.minimize(cost)\n",
    "\n",
    "# 모든 변수를 초기화하고 세션을 시작합니다.\n",
    "init = tf.global_variables_initializer()\n",
    "sess = tf.Session()\n",
    "sess.run(init)\n",
    "\n",
    "# 8번 반복하면서 train을 실행시킵니다. 반복마다 W, b 값의 변화를 프린트하고 그래프로 직선의 기울기의 변화를 살펴봅니다.\n",
    "for step in range(8):\n",
    "    sess.run(train, feed_dict={X:x_data, Y:y_data})\n",
    "    print(step, sess.run(cost, feed_dict={X:x_data, Y:y_data}), sess.run(W), sess.run(b))\n",
    "    # 산포도 그리기\n",
    "    plt.plot(x_data, y_data, 'ro')\n",
    "    # 직선 그리기\n",
    "    plt.plot(x_data, sess.run(W) * x_data + sess.run(b), 'b*')\n",
    "    # x, y 축 레이블링을 하고 각 축의 최대, 최소값 범위를 지정합니다.\n",
    "    plt.xlabel('x')\n",
    "    plt.xlim(-2,2)\n",
    "    plt.ylim(0.1,0.6)\n",
    "    plt.ylabel('y')\n",
    "    plt.show"
   ]
  },
  {
   "cell_type": "markdown",
   "metadata": {},
   "source": [
    "#### prediction with hypothesis"
   ]
  },
  {
   "cell_type": "code",
   "execution_count": 8,
   "metadata": {
    "collapsed": false,
    "deletable": true,
    "editable": true
   },
   "outputs": [
    {
     "name": "stdout",
     "output_type": "stream",
     "text": [
      "[ 0.53535569]\n"
     ]
    }
   ],
   "source": [
    "print(sess.run(y, feed_dict={X:2.0}))"
   ]
  }
 ],
 "metadata": {
  "kernelspec": {
   "display_name": "Python 3",
   "language": "python",
   "name": "python3"
  },
  "language_info": {
   "codemirror_mode": {
    "name": "ipython",
    "version": 3
   },
   "file_extension": ".py",
   "mimetype": "text/x-python",
   "name": "python",
   "nbconvert_exporter": "python",
   "pygments_lexer": "ipython3",
   "version": "3.4.3"
  }
 },
 "nbformat": 4,
 "nbformat_minor": 2
}
